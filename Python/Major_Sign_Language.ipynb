{
 "cells": [
  {
   "cell_type": "code",
   "execution_count": 2,
   "id": "00fe2b1f",
   "metadata": {},
   "outputs": [],
   "source": [
    "\n",
    "import cv2\n",
    "import numpy as np\n",
    "import os\n",
    "from matplotlib import pyplot as plt\n",
    "import time\n",
    "import mediapipe as mp\n",
    "import seaborn as sns"
   ]
  },
  {
   "cell_type": "code",
   "execution_count": 3,
   "id": "c0bdf865",
   "metadata": {},
   "outputs": [],
   "source": [
    "# pip freeze > requirements.txt"
   ]
  },
  {
   "cell_type": "code",
   "execution_count": 4,
   "id": "0e3e367a",
   "metadata": {},
   "outputs": [],
   "source": [
    "\n",
    "mp_holistic = mp.solutions.holistic # Holistic model\n",
    "mp_drawing = mp.solutions.drawing_utils # Drawing utilities\n"
   ]
  },
  {
   "cell_type": "code",
   "execution_count": 5,
   "id": "1abc281f",
   "metadata": {},
   "outputs": [],
   "source": [
    "\n",
    "def mediapipe_detection(image, model):\n",
    "    image = cv2.cvtColor(image, cv2.COLOR_BGR2RGB) # COLOR CONVERSION BGR 2 RGB\n",
    "    image.flags.writeable = False                  # Image is no longer writeable\n",
    "    results = model.process(image)                 # Make prediction\n",
    "    image.flags.writeable = True                   # Image is now writeable \n",
    "    image = cv2.cvtColor(image, cv2.COLOR_RGB2BGR) # COLOR COVERSION RGB 2 BGR\n",
    "    return image, results\n"
   ]
  },
  {
   "cell_type": "code",
   "execution_count": 6,
   "id": "7d9fe944",
   "metadata": {},
   "outputs": [],
   "source": [
    "def draw_landmarks(image, results):\n",
    "    mp_drawing.draw_landmarks(image, results.face_landmarks, mp_holistic.FACEMESH_TESSELATION) # Draw face connections\n",
    "    mp_drawing.draw_landmarks(image, results.pose_landmarks, mp_holistic.POSE_CONNECTIONS) # Draw pose connections\n",
    "    mp_drawing.draw_landmarks(image, results.left_hand_landmarks, mp_holistic.HAND_CONNECTIONS) # Draw left hand connections\n",
    "    mp_drawing.draw_landmarks(image, results.right_hand_landmarks, mp_holistic.HAND_CONNECTIONS) # Draw right hand connections"
   ]
  },
  {
   "cell_type": "code",
   "execution_count": 7,
   "id": "1972f71b",
   "metadata": {},
   "outputs": [],
   "source": [
    "def draw_styled_landmarks(image, results):\n",
    "    # Draw face connections\n",
    "#     mp_drawing.draw_landmarks(image, results.face_landmarks, mp_holistic.FACEMESH_TESSELATION, \n",
    "#                              mp_drawing.DrawingSpec(color=(80,110,10), thickness=1, circle_radius=1), \n",
    "#                              mp_drawing.DrawingSpec(color=(80,256,121), thickness=1, circle_radius=1)\n",
    "#                              ) \n",
    "    # Draw pose connections\n",
    "#     mp_drawing.draw_landmarks(image, results.pose_landmarks, mp_holistic.POSE_CONNECTIONS,\n",
    "#                              mp_drawing.DrawingSpec(color=(80,22,10), thickness=2, circle_radius=4), \n",
    "#                              mp_drawing.DrawingSpec(color=(80,44,121), thickness=2, circle_radius=2)\n",
    "#                              ) \n",
    "    # Draw left hand connections\n",
    "    mp_drawing.draw_landmarks(image, results.left_hand_landmarks, mp_holistic.HAND_CONNECTIONS, \n",
    "                             mp_drawing.DrawingSpec(color=(121,22,76), thickness=2, circle_radius=4), \n",
    "                             mp_drawing.DrawingSpec(color=(121,44,250), thickness=2, circle_radius=2)\n",
    "                             ) \n",
    "    # Draw right hand connections  \n",
    "    mp_drawing.draw_landmarks(image, results.right_hand_landmarks, mp_holistic.HAND_CONNECTIONS, \n",
    "                             mp_drawing.DrawingSpec(color=(245,117,66), thickness=2, circle_radius=4), \n",
    "                             mp_drawing.DrawingSpec(color=(245,66,230), thickness=2, circle_radius=2)\n",
    "                             ) "
   ]
  },
  {
   "cell_type": "code",
   "execution_count": 8,
   "id": "badd1270",
   "metadata": {},
   "outputs": [],
   "source": [
    "# cap = cv2.VideoCapture(0)\n",
    "# # Set mediapipe model \n",
    "# with mp_holistic.Holistic(min_detection_confidence=0.5, min_tracking_confidence=0.5) as holistic:\n",
    "#     while cap.isOpened():\n",
    "\n",
    "#         # Read feed\n",
    "#         ret, frame = cap.read()\n",
    "\n",
    "#         # Make detections\n",
    "#         image, results = mediapipe_detection(frame, holistic)\n",
    "#         print(results)\n",
    "        \n",
    "#         # Draw landmarks\n",
    "#         draw_styled_landmarks(image, results)\n",
    "\n",
    "#         # Show to screen\n",
    "#         cv2.imshow('OpenCV Feed', image)\n",
    "\n",
    "#         # Break gracefully\n",
    "#         if cv2.waitKey(1) & 0xFF == ord('q'):\n",
    "#             break\n",
    "#     cap.release()\n",
    "#     cv2.destroyAllWindows()"
   ]
  },
  {
   "cell_type": "code",
   "execution_count": 9,
   "id": "04e9bd72",
   "metadata": {},
   "outputs": [],
   "source": [
    "# cap = cv2.VideoCapture(0)\n",
    "\n",
    "# holistic=mp_holistic.Holistic(min_detection_confidence=0.5, min_tracking_confidence=0.5) \n",
    "# while True:\n",
    "#     success,img=cap.read()\n",
    "#     # Make detections\n",
    "#     img = cv2.resize(img, (1280,  720))\n",
    "#     img=cv2.flip(img,1);\n",
    "#     img, results = mediapipe_detection(img, holistic)\n",
    "    \n",
    "    \n",
    "#     # Draw landmarks\n",
    "#     draw_styled_landmarks(img, results)\n",
    "\n",
    "#     cv2.imshow(\"image\",img)\n",
    "#     key = cv2.waitKey(1) & 0xFF\n",
    "\n",
    "#     if key == ord(\"q\"):\n",
    "#         break\n",
    "   \n",
    "# cv2.destroyAllWindows()"
   ]
  },
  {
   "cell_type": "code",
   "execution_count": 11,
   "id": "7c6c5df2",
   "metadata": {
    "scrolled": true
   },
   "outputs": [],
   "source": [
    "# results.left_hand_landmarks"
   ]
  },
  {
   "cell_type": "code",
   "execution_count": 10,
   "id": "19255821",
   "metadata": {},
   "outputs": [],
   "source": [
    "# plt.imshow(cv2.cvtColor(img, cv2.COLOR_BGR2RGB))"
   ]
  },
  {
   "cell_type": "code",
   "execution_count": null,
   "id": "51cb4eb2",
   "metadata": {},
   "outputs": [],
   "source": []
  },
  {
   "cell_type": "code",
   "execution_count": 12,
   "id": "c8b9fe11",
   "metadata": {},
   "outputs": [],
   "source": [
    "def extract_keypoints(results):\n",
    "#     pose = np.array([[res.x, res.y, res.z, res.visibility] for res in results.pose_landmarks.landmark]).flatten() if results.pose_landmarks else np.zeros(33*4)\n",
    "#     face = np.array([[res.x, res.y, res.z] for res in results.face_landmarks.landmark]).flatten() if results.face_landmarks else np.zeros(468*3)\n",
    "    lh = np.array([[res.x, res.y, res.z] for res in results.left_hand_landmarks.landmark]).flatten() if results.left_hand_landmarks else np.zeros(21*3)\n",
    "    rh = np.array([[res.x, res.y, res.z] for res in results.right_hand_landmarks.landmark]).flatten() if results.right_hand_landmarks else np.zeros(21*3)\n",
    "    return np.concatenate([ lh, rh])"
   ]
  },
  {
   "cell_type": "code",
   "execution_count": 13,
   "id": "282b2b86",
   "metadata": {},
   "outputs": [],
   "source": [
    "# lh = np.array([[res.x, res.y, res.z] for res in results.left_hand_landmarks.landmark]).flatten() if results.left_hand_landmarks else np.zeros(21*3)\n",
    "# rh = np.array([[res.x, res.y, res.z] for res in results.right_hand_landmarks.landmark]).flatten() if results.right_hand_landmarks else np.zeros(21*3)\n",
    "# np.concatenate([ lh, rh])\n"
   ]
  },
  {
   "cell_type": "code",
   "execution_count": 14,
   "id": "4cc3313e",
   "metadata": {},
   "outputs": [],
   "source": [
    "# Path for exported data, numpy arrays\n",
    "DATA_PATH = os.path.join('MP_Data') \n",
    "\n",
    "# Actions that we try to detect\n",
    "\n",
    "\n",
    "actions = np.array(['A','B','C','D','E','F','G','H','I','J','K','L','M','N','O','P','Q','R','S','T','U','V','W','X','Y','Z'])\n",
    "\n",
    "# Thirty videos worth of data\n",
    "no_sequences = 30\n",
    "\n",
    "# Videos are going to be 30 frames in length\n",
    "sequence_length = 30\n",
    "\n",
    "# Folder start\n",
    "start_folder = 0"
   ]
  },
  {
   "cell_type": "code",
   "execution_count": 15,
   "id": "ee53fced",
   "metadata": {},
   "outputs": [],
   "source": [
    "# for action in actions: \n",
    "# #     dirmax = np.max(np.array(os.listdir(os.path.join(DATA_PATH, action))).astype(int))\n",
    "#     for sequence in range(no_sequences+1):\n",
    "#         try: \n",
    "#             os.makedirs(os.path.join(DATA_PATH, action, str(sequence)))\n",
    "#         except:\n",
    "#             pass"
   ]
  },
  {
   "cell_type": "code",
   "execution_count": 16,
   "id": "60d77670",
   "metadata": {},
   "outputs": [],
   "source": [
    "# cap = cv2.VideoCapture(0)\n",
    "# # Set mediapipe model \n",
    "# holistic=mp_holistic.Holistic(min_detection_confidence=0.5, min_tracking_confidence=0.5) \n",
    "    \n",
    "# # NEW LOOP\n",
    "# # Loop through actions\n",
    "# for action in actions:\n",
    "#     # Loop through sequences aka videos\n",
    "#     for sequence in range(0,no_sequences):\n",
    "#         # Loop through video length aka sequence length\n",
    "#         for frame_num in range(sequence_length):\n",
    "\n",
    "#             # Read feed\n",
    "#             ret, frame = cap.read()\n",
    "#             frame = cv2.resize(frame, (1280,  720))\n",
    "#             frame=cv2.flip(frame,1);\n",
    "#             # Make detections\n",
    "#             image, results = mediapipe_detection(frame, holistic)\n",
    "# #                 print(results)\n",
    "\n",
    "#             # Draw landmarks\n",
    "#             draw_styled_landmarks(image, results)\n",
    "\n",
    "#             # NEW Apply wait logic\n",
    "#             if frame_num == 0: \n",
    "#                 cv2.putText(image, 'STARTING COLLECTION', (120,200), \n",
    "#                            cv2.FONT_HERSHEY_SIMPLEX, 1, (0,255, 0), 4, cv2.LINE_AA)\n",
    "#                 cv2.putText(image, 'Collecting frames for {} Video Number {}'.format(action, sequence), (15,12), \n",
    "#                            cv2.FONT_HERSHEY_SIMPLEX, 0.5, (0, 0, 255), 1, cv2.LINE_AA)\n",
    "#                 # Show to screen\n",
    "#                 cv2.imshow('OpenCV Feed', image)\n",
    "#                 cv2.waitKey(2000)\n",
    "#             else: \n",
    "#                 cv2.putText(image, 'Collecting frames for {} Video Number {}'.format(action, sequence), (15,12), \n",
    "#                            cv2.FONT_HERSHEY_SIMPLEX, 0.5, (0, 0, 255), 1, cv2.LINE_AA)\n",
    "#                 # Show to screen\n",
    "#                 cv2.imshow('OpenCV Feed', image)\n",
    "\n",
    "#             # NEW Export keypoints\n",
    "#             keypoints = extract_keypoints(results)\n",
    "#             npy_path = os.path.join(DATA_PATH, action, str(sequence), str(frame_num))\n",
    "#             np.save(npy_path, keypoints)\n",
    "\n",
    "#             # Break gracefully\n",
    "#             if cv2.waitKey(10) & 0xFF == ord('q'):\n",
    "#                 break\n",
    "\n",
    "# cap.release()\n",
    "# cv2.destroyAllWindows()"
   ]
  },
  {
   "cell_type": "code",
   "execution_count": null,
   "id": "f51345ec",
   "metadata": {},
   "outputs": [],
   "source": []
  },
  {
   "cell_type": "code",
   "execution_count": null,
   "id": "4ebc4ff0",
   "metadata": {},
   "outputs": [],
   "source": []
  },
  {
   "cell_type": "code",
   "execution_count": 21,
   "id": "aa4a8cbd",
   "metadata": {},
   "outputs": [],
   "source": [
    "from sklearn.model_selection import train_test_split\n",
    "from tensorflow.keras.utils import to_categorical\n",
    "\n",
    "label_map = {label:num for num, label in enumerate(actions)}"
   ]
  },
  {
   "cell_type": "code",
   "execution_count": 22,
   "id": "9ae6cdef",
   "metadata": {},
   "outputs": [],
   "source": [
    "sequences, labels = [], []\n",
    "for action in actions:\n",
    "    for sequence in range(no_sequences):\n",
    "        window = []\n",
    "        for frame_num in range(sequence_length):\n",
    "            res = np.load(os.path.join(DATA_PATH, action, str(sequence), \"{}.npy\".format(frame_num)))\n",
    "            window.append(res)\n",
    "        sequences.append(window)\n",
    "        labels.append(label_map[action])"
   ]
  },
  {
   "cell_type": "code",
   "execution_count": 17,
   "id": "a8bd06e7",
   "metadata": {},
   "outputs": [],
   "source": [
    "# sequences"
   ]
  },
  {
   "cell_type": "code",
   "execution_count": 18,
   "id": "592793be",
   "metadata": {},
   "outputs": [],
   "source": [
    "X = np.array(sequences)\n",
    "\n",
    "y = to_categorical(labels).astype(int)"
   ]
  },
  {
   "cell_type": "code",
   "execution_count": 50,
   "id": "de04c702",
   "metadata": {},
   "outputs": [],
   "source": [
    "X_train, X_test, y_train, y_test = train_test_split(X, y, test_size=0.06)"
   ]
  },
  {
   "cell_type": "code",
   "execution_count": null,
   "id": "63063f86",
   "metadata": {},
   "outputs": [],
   "source": []
  },
  {
   "cell_type": "code",
   "execution_count": null,
   "id": "8d7d9340",
   "metadata": {},
   "outputs": [],
   "source": []
  },
  {
   "cell_type": "code",
   "execution_count": 20,
   "id": "2334f27e",
   "metadata": {},
   "outputs": [],
   "source": [
    "from tensorflow.keras.models import Sequential\n",
    "from tensorflow.keras.layers import LSTM, Dense\n",
    "from tensorflow.keras.callbacks import TensorBoard"
   ]
  },
  {
   "cell_type": "code",
   "execution_count": 21,
   "id": "fd99f7cc",
   "metadata": {},
   "outputs": [],
   "source": [
    "log_dir = os.path.join('Logs')\n",
    "tb_callback = TensorBoard(log_dir=log_dir)"
   ]
  },
  {
   "cell_type": "code",
   "execution_count": 22,
   "id": "f49d9b04",
   "metadata": {},
   "outputs": [],
   "source": [
    "model = Sequential()\n",
    "model.add(LSTM(64, return_sequences=True, activation='relu', input_shape=(30,126)))\n",
    "model.add(LSTM(128, return_sequences=True, activation='relu'))\n",
    "model.add(LSTM(64, return_sequences=False, activation='relu'))\n",
    "model.add(Dense(64, activation='relu'))\n",
    "model.add(Dense(32, activation='relu'))\n",
    "model.add(Dense(actions.shape[0], activation='softmax'))"
   ]
  },
  {
   "cell_type": "code",
   "execution_count": 23,
   "id": "5fc973a1",
   "metadata": {},
   "outputs": [],
   "source": [
    "model.compile(optimizer='Adam', loss='categorical_crossentropy', metrics=['categorical_accuracy'])"
   ]
  },
  {
   "cell_type": "code",
   "execution_count": 30,
   "id": "92cb24fb",
   "metadata": {},
   "outputs": [],
   "source": [
    "# model.fit(X_train, y_train, epochs=100, callbacks=[tb_callback])"
   ]
  },
  {
   "cell_type": "code",
   "execution_count": 31,
   "id": "74fd9347",
   "metadata": {},
   "outputs": [],
   "source": [
    "# # model.summary()\n",
    "# ?model.fit()"
   ]
  },
  {
   "cell_type": "code",
   "execution_count": 18,
   "id": "624da138",
   "metadata": {},
   "outputs": [],
   "source": [
    "# N = 1000\n",
    "# plt.style.use(\"ggplot\")\n",
    "# plt.figure()\n",
    "# plt.plot(np.arange(0, N), H.history[\"loss\"], label=\"train_loss\")\n",
    "# plt.plot(np.arange(0, N), H.history[\"val_loss\"], label=\"val_loss\")\n",
    "# plt.plot(np.arange(0, N), H.history[\"accuracy\"], label=\"train_acc\")\n",
    "# plt.plot(np.arange(0, N), H.history[\"val_accuracy\"], label=\"val_acc\")\n",
    "# plt.title(\"Training Loss and Accuracy\")\n",
    "# plt.xlabel(\"Epoch #\")\n",
    "# plt.ylabel(\"Loss/Accuracy\")\n",
    "# plt.legend(loc=\"lower left\")\n",
    "# plt.savefig('a.png')"
   ]
  },
  {
   "cell_type": "code",
   "execution_count": 32,
   "id": "0150b10b",
   "metadata": {},
   "outputs": [],
   "source": [
    "# res = model.predict(X_test)"
   ]
  },
  {
   "cell_type": "code",
   "execution_count": 33,
   "id": "7442bda5",
   "metadata": {},
   "outputs": [],
   "source": [
    "# for i in range(len(res)):\n",
    "#     print(actions[np.argmax(res[i])],end=\" \")"
   ]
  },
  {
   "cell_type": "code",
   "execution_count": 34,
   "id": "edc45bd1",
   "metadata": {},
   "outputs": [],
   "source": [
    "# for i in range(len(res)):\n",
    "#     print(actions[np.argmax(y_test[i])],end=\" \")"
   ]
  },
  {
   "cell_type": "code",
   "execution_count": 35,
   "id": "b0ba3fd3",
   "metadata": {},
   "outputs": [],
   "source": [
    "#  model.save('model_30_A-Z_1000.h5')"
   ]
  },
  {
   "cell_type": "code",
   "execution_count": 36,
   "id": "a4a8503d",
   "metadata": {},
   "outputs": [],
   "source": [
    "# del model"
   ]
  },
  {
   "cell_type": "code",
   "execution_count": 24,
   "id": "948488ed",
   "metadata": {},
   "outputs": [],
   "source": [
    " model.load_weights('model_30_A-Z_1000.h5')"
   ]
  },
  {
   "cell_type": "code",
   "execution_count": 25,
   "id": "d22c4b98",
   "metadata": {},
   "outputs": [],
   "source": [
    "from sklearn.metrics import multilabel_confusion_matrix, accuracy_score\n",
    "from sklearn.metrics import classification_report\n",
    "from sklearn.metrics import confusion_matrix"
   ]
  },
  {
   "cell_type": "code",
   "execution_count": 88,
   "id": "b1022ec1",
   "metadata": {},
   "outputs": [
    {
     "data": {
      "text/plain": [
       "array([[[62,  0],\n",
       "        [ 0,  5]],\n",
       "\n",
       "       [[64,  0],\n",
       "        [ 0,  3]],\n",
       "\n",
       "       [[65,  0],\n",
       "        [ 0,  2]],\n",
       "\n",
       "       [[65,  0],\n",
       "        [ 0,  2]],\n",
       "\n",
       "       [[64,  0],\n",
       "        [ 0,  3]],\n",
       "\n",
       "       [[66,  0],\n",
       "        [ 0,  1]],\n",
       "\n",
       "       [[62,  0],\n",
       "        [ 0,  5]],\n",
       "\n",
       "       [[64,  0],\n",
       "        [ 0,  3]],\n",
       "\n",
       "       [[65,  0],\n",
       "        [ 0,  2]],\n",
       "\n",
       "       [[63,  0],\n",
       "        [ 0,  4]],\n",
       "\n",
       "       [[65,  0],\n",
       "        [ 0,  2]],\n",
       "\n",
       "       [[66,  0],\n",
       "        [ 0,  1]],\n",
       "\n",
       "       [[64,  0],\n",
       "        [ 0,  3]],\n",
       "\n",
       "       [[64,  0],\n",
       "        [ 0,  3]],\n",
       "\n",
       "       [[64,  0],\n",
       "        [ 0,  3]],\n",
       "\n",
       "       [[65,  0],\n",
       "        [ 0,  2]],\n",
       "\n",
       "       [[65,  0],\n",
       "        [ 0,  2]],\n",
       "\n",
       "       [[64,  0],\n",
       "        [ 0,  3]],\n",
       "\n",
       "       [[66,  0],\n",
       "        [ 0,  1]],\n",
       "\n",
       "       [[64,  0],\n",
       "        [ 0,  3]],\n",
       "\n",
       "       [[64,  0],\n",
       "        [ 0,  3]],\n",
       "\n",
       "       [[64,  0],\n",
       "        [ 0,  3]],\n",
       "\n",
       "       [[65,  0],\n",
       "        [ 0,  2]],\n",
       "\n",
       "       [[66,  0],\n",
       "        [ 0,  1]],\n",
       "\n",
       "       [[64,  0],\n",
       "        [ 0,  3]],\n",
       "\n",
       "       [[65,  0],\n",
       "        [ 0,  2]]], dtype=int64)"
      ]
     },
     "execution_count": 88,
     "metadata": {},
     "output_type": "execute_result"
    }
   ],
   "source": [
    "# yhat = model.predict(X_test)\n",
    "\n",
    "# ytrue = np.argmax(y_test, axis=1).tolist()\n",
    "\n",
    "# yhat = np.argmax(yhat, axis=1).tolist()\n",
    "\n",
    "# multilabel_confusion_matrix(ytrue, yhat)"
   ]
  },
  {
   "cell_type": "code",
   "execution_count": 33,
   "id": "4670eefc",
   "metadata": {},
   "outputs": [],
   "source": [
    "# accuracy_score(ytrue,yhat)"
   ]
  },
  {
   "cell_type": "code",
   "execution_count": 85,
   "id": "994972ce",
   "metadata": {},
   "outputs": [],
   "source": [
    "def evaluatuion (model,X_test,y_test):\n",
    "    s='act '\n",
    "    s2='pred '\n",
    "    #getting models predcitons on test set\n",
    "    y_pred = []\n",
    "    y_prob = model.predict(X_test)\n",
    "    for i in y_prob:\n",
    "        y_pred.append(np.argmax(i))\n",
    "    y_test = np.asarray(y_test)\n",
    "    rounded_labels=np.argmax(y_test, axis=1)\n",
    "    confusion_matrix_array = confusion_matrix(rounded_labels,y_pred)\n",
    "    print(\"simple confusion matrix\")\n",
    "    print(confusion_matrix_array)\n",
    "    print(\"Report:\")\n",
    "#     print(classification_report(rounded_labels, y_pred,actions))\n",
    "    \n",
    "    \n",
    "    print(\"Confusion Matrix:\")\n",
    "    confusion_matrix_array = confusion_matrix(rounded_labels,y_pred)\n",
    "    fig, ax = plt.subplots(figsize=(18,18))  \n",
    "    g= sns.heatmap(confusion_matrix_array, annot=True,yticklabels=[s+s1  for s1 in actions],xticklabels=[s2+s1  for s1 in actions],linewidths=.5, ax=ax)\n",
    "    g.set_yticklabels(g.get_yticklabels(), rotation = 0)\n",
    "    \n",
    "\n",
    "    \n",
    "\n",
    "    \n",
    "    return y_pred\n",
    "    "
   ]
  },
  {
   "cell_type": "code",
   "execution_count": 86,
   "id": "01d1419f",
   "metadata": {},
   "outputs": [
    {
     "name": "stdout",
     "output_type": "stream",
     "text": [
      "simple confusion matrix\n",
      "[[5 0 0 0 0 0 0 0 0 0 0 0 0 0 0 0 0 0 0 0 0 0 0 0 0 0]\n",
      " [0 3 0 0 0 0 0 0 0 0 0 0 0 0 0 0 0 0 0 0 0 0 0 0 0 0]\n",
      " [0 0 2 0 0 0 0 0 0 0 0 0 0 0 0 0 0 0 0 0 0 0 0 0 0 0]\n",
      " [0 0 0 2 0 0 0 0 0 0 0 0 0 0 0 0 0 0 0 0 0 0 0 0 0 0]\n",
      " [0 0 0 0 3 0 0 0 0 0 0 0 0 0 0 0 0 0 0 0 0 0 0 0 0 0]\n",
      " [0 0 0 0 0 1 0 0 0 0 0 0 0 0 0 0 0 0 0 0 0 0 0 0 0 0]\n",
      " [0 0 0 0 0 0 5 0 0 0 0 0 0 0 0 0 0 0 0 0 0 0 0 0 0 0]\n",
      " [0 0 0 0 0 0 0 3 0 0 0 0 0 0 0 0 0 0 0 0 0 0 0 0 0 0]\n",
      " [0 0 0 0 0 0 0 0 2 0 0 0 0 0 0 0 0 0 0 0 0 0 0 0 0 0]\n",
      " [0 0 0 0 0 0 0 0 0 4 0 0 0 0 0 0 0 0 0 0 0 0 0 0 0 0]\n",
      " [0 0 0 0 0 0 0 0 0 0 2 0 0 0 0 0 0 0 0 0 0 0 0 0 0 0]\n",
      " [0 0 0 0 0 0 0 0 0 0 0 1 0 0 0 0 0 0 0 0 0 0 0 0 0 0]\n",
      " [0 0 0 0 0 0 0 0 0 0 0 0 3 0 0 0 0 0 0 0 0 0 0 0 0 0]\n",
      " [0 0 0 0 0 0 0 0 0 0 0 0 0 3 0 0 0 0 0 0 0 0 0 0 0 0]\n",
      " [0 0 0 0 0 0 0 0 0 0 0 0 0 0 3 0 0 0 0 0 0 0 0 0 0 0]\n",
      " [0 0 0 0 0 0 0 0 0 0 0 0 0 0 0 2 0 0 0 0 0 0 0 0 0 0]\n",
      " [0 0 0 0 0 0 0 0 0 0 0 0 0 0 0 0 2 0 0 0 0 0 0 0 0 0]\n",
      " [0 0 0 0 0 0 0 0 0 0 0 0 0 0 0 0 0 3 0 0 0 0 0 0 0 0]\n",
      " [0 0 0 0 0 0 0 0 0 0 0 0 0 0 0 0 0 0 1 0 0 0 0 0 0 0]\n",
      " [0 0 0 0 0 0 0 0 0 0 0 0 0 0 0 0 0 0 0 3 0 0 0 0 0 0]\n",
      " [0 0 0 0 0 0 0 0 0 0 0 0 0 0 0 0 0 0 0 0 3 0 0 0 0 0]\n",
      " [0 0 0 0 0 0 0 0 0 0 0 0 0 0 0 0 0 0 0 0 0 3 0 0 0 0]\n",
      " [0 0 0 0 0 0 0 0 0 0 0 0 0 0 0 0 0 0 0 0 0 0 2 0 0 0]\n",
      " [0 0 0 0 0 0 0 0 0 0 0 0 0 0 0 0 0 0 0 0 0 0 0 1 0 0]\n",
      " [0 0 0 0 0 0 0 0 0 0 0 0 0 0 0 0 0 0 0 0 0 0 0 0 3 0]\n",
      " [0 0 0 0 0 0 0 0 0 0 0 0 0 0 0 0 0 0 0 0 0 0 0 0 0 2]]\n",
      "Report:\n",
      "Confusion Matrix:\n"
     ]
    },
    {
     "data": {
      "image/png": "[encoded data removed]",
      "text/plain": [
       "<Figure size 1296x1296 with 2 Axes>"
      ]
     },
     "metadata": {
      "needs_background": "light"
     },
     "output_type": "display_data"
    }
   ],
   "source": [
    "# X_train, X_test, y_train, y_test = train_test_split(X, y, test_size=0.085)\n",
    "y_pred = evaluatuion (model,X_test,y_test,)\n"
   ]
  },
  {
   "cell_type": "code",
   "execution_count": 37,
   "id": "00729a05",
   "metadata": {},
   "outputs": [],
   "source": [
    "sequence = []\n",
    "sentence = []\n",
    "counter=0;\n",
    "ans='a'\n",
    "# threshold = 0.5\n",
    "a=True;\n",
    "\n",
    "cap = cv2.VideoCapture(0)\n",
    "holistic=mp_holistic.Holistic(min_detection_confidence=0.5, min_tracking_confidence=0.5) \n",
    "while True:\n",
    "    success,img=cap.read()\n",
    "    # Make detections\n",
    "    img = cv2.resize(img, (1280,  720))\n",
    "    img=cv2.flip(img,1);\n",
    "    img, results = mediapipe_detection(img, holistic)\n",
    "    \n",
    "    \n",
    "    \n",
    "    # Draw landmarks\n",
    "    draw_styled_landmarks(img, results)\n",
    "    \n",
    "    \n",
    "        # 2. Prediction logic\n",
    "    keypoints = extract_keypoints(results)\n",
    "#     print(keypoints)\n",
    "#         sequence.insert(0,keypoints)\n",
    "#         sequence = sequence[:30]\n",
    "    sequence.append(keypoints)\n",
    "    sequence = sequence[-30:]\n",
    "    counter+=1\n",
    "    if len(sequence) == 30 and counter%15==0:\n",
    "        res = model.predict(np.expand_dims(sequence, axis=0))[0]\n",
    "        ans=  actions[np.argmax(res)]\n",
    "    cv2.putText(img, ans, (120,200),cv2.FONT_HERSHEY_SIMPLEX, 3, (0,0, 0), 6, cv2.LINE_AA)\n",
    "          \n",
    "       \n",
    "\n",
    "    cv2.imshow(\"image\",img)\n",
    "    key = cv2.waitKey(1) & 0xFF\n",
    "\n",
    "    if key == ord(\"q\"):\n",
    "        break\n",
    "   \n",
    "cv2.destroyAllWindows()"
   ]
  },
  {
   "cell_type": "code",
   "execution_count": null,
   "id": "e56770bc",
   "metadata": {},
   "outputs": [],
   "source": []
  }
 ],
 "metadata": {
  "kernelspec": {
   "display_name": "Python 3",
   "language": "python",
   "name": "python3"
  },
  "language_info": {
   "codemirror_mode": {
    "name": "ipython",
    "version": 3
   },
   "file_extension": ".py",
   "mimetype": "text/x-python",
   "name": "python",
   "nbconvert_exporter": "python",
   "pygments_lexer": "ipython3",
   "version": "3.8.8"
  }
 },
 "nbformat": 4,
 "nbformat_minor": 5
}
